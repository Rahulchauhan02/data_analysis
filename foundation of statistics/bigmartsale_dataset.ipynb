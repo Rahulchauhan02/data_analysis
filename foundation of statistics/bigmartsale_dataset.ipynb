{
 "cells": [
  {
   "cell_type": "code",
   "execution_count": null,
   "metadata": {},
   "outputs": [],
   "source": [
    "#task Exploration of data\n",
    "\"\"\"\n",
    "check the null values and drop them\n",
    "1. find the measures of central tendency for assualt& fraud\n",
    "2. find the measure of spread and shape for - .assualt& fraud\n",
    "    detect outliers based on data urbanpop using iqr\n",
    "    detect outlier in urbanpop using z-score\n",
    "    calculate range, std,varriance of data in urbanpop & assualt.\n",
    "\"\"\""
   ]
  }
 ],
 "metadata": {
  "language_info": {
   "name": "python"
  }
 },
 "nbformat": 4,
 "nbformat_minor": 2
}
