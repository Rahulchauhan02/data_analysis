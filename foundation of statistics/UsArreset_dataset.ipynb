{
 "cells": [
  {
   "cell_type": "code",
   "execution_count": 1,
   "metadata": {},
   "outputs": [
    {
     "data": {
      "text/plain": [
       "'\\ncheck the null values and drop them\\n1. find the measures of central tendency for assualt& fraud\\n2. find the measure of spread and shape for - .assualt& fraud\\n    detect outliers based on data urbanpop using iqr\\n    detect outlier in urbanpop using z-score\\n    calculate range, std,varriance of data in urbanpop & assualt.\\n'"
      ]
     },
     "execution_count": 1,
     "metadata": {},
     "output_type": "execute_result"
    }
   ],
   "source": [
    "#task Exploration of data\n",
    "\"\"\"\n",
    "check the null values and drop them\n",
    "1. find the measures of central tendency for assualt& fraud\n",
    "2. find the measure of spread and shape for - .assualt& fraud\n",
    "    detect outliers based on data urbanpop using iqr\n",
    "    detect outlier in urbanpop using z-score\n",
    "    calculate range, std,varriance of data in urbanpop & assualt.\n",
    "\"\"\""
   ]
  },
  {
   "cell_type": "code",
   "execution_count": null,
   "metadata": {},
   "outputs": [],
   "source": []
  }
 ],
 "metadata": {
  "kernelspec": {
   "display_name": "Python 3",
   "language": "python",
   "name": "python3"
  },
  "language_info": {
   "codemirror_mode": {
    "name": "ipython",
    "version": 3
   },
   "file_extension": ".py",
   "mimetype": "text/x-python",
   "name": "python",
   "nbconvert_exporter": "python",
   "pygments_lexer": "ipython3",
   "version": "3.9.0"
  }
 },
 "nbformat": 4,
 "nbformat_minor": 2
}
