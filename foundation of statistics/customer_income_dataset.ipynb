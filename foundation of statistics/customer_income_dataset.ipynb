{
 "cells": [
  {
   "cell_type": "code",
   "execution_count": null,
   "metadata": {},
   "outputs": [],
   "source": [
    "#task Exploration of data\n",
    "\"\"\"\n",
    "check the null values and drop them\n",
    "1. find the measures of central tendency for annual income column.\n",
    "2. find the measure of spread and shape for - spending scorescolumn.\n",
    "3. detect outliers in anannual income and spending score  using zscore. \n",
    "4. detect outliers in customer age and spending score  using scatter plot. \n",
    "\"\"\""
   ]
  }
 ],
 "metadata": {
  "language_info": {
   "name": "python"
  }
 },
 "nbformat": 4,
 "nbformat_minor": 2
}
