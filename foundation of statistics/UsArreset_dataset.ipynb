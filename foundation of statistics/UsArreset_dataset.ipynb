{
 "cells": [
  {
   "cell_type": "code",
   "execution_count": 1,
   "metadata": {},
   "outputs": [
    {
     "data": {
      "text/plain": [
       "'\\ncheck the null values and drop them\\n1. find the measures of central tendency for assualt& fraud\\n2. find the measure of spread and shape for - .assualt& fraud\\n    detect outliers based on data urbanpop using iqr\\n    detect outlier in urbanpop using z-score\\n    calculate range, std,varriance of data in urbanpop & assualt.\\n'"
      ]
     },
     "execution_count": 1,
     "metadata": {},
     "output_type": "execute_result"
    }
   ],
   "source": [
    "#task Exploration of data\n",
    "\"\"\"\n",
    "check the null values and drop them\n",
    "1. find the measures of central tendency for assualt& fraud\n",
    "2. find the measure of spread and shape for - .assualt& fraud\n",
    "    detect outliers based on data urbanpop using iqr\n",
    "    detect outlier in urbanpop using z-score\n",
    "    calculate range, std,varriance of data in urbanpop & assualt.\n",
    "\"\"\""
   ]
  },
  {
   "cell_type": "code",
   "execution_count": 1,
   "metadata": {},
   "outputs": [],
   "source": [
    "import numpy as np\n",
    "import pandas as pd\n",
    "import seaborn as sns\n",
    "import matplotlib.pyplot as plt"
   ]
  },
  {
   "cell_type": "code",
   "execution_count": 3,
   "metadata": {},
   "outputs": [
    {
     "data": {
      "text/html": [
       "<div>\n",
       "<style scoped>\n",
       "    .dataframe tbody tr th:only-of-type {\n",
       "        vertical-align: middle;\n",
       "    }\n",
       "\n",
       "    .dataframe tbody tr th {\n",
       "        vertical-align: top;\n",
       "    }\n",
       "\n",
       "    .dataframe thead th {\n",
       "        text-align: right;\n",
       "    }\n",
       "</style>\n",
       "<table border=\"1\" class=\"dataframe\">\n",
       "  <thead>\n",
       "    <tr style=\"text-align: right;\">\n",
       "      <th></th>\n",
       "      <th>Unnamed: 0</th>\n",
       "      <th>Murder</th>\n",
       "      <th>Assault</th>\n",
       "      <th>UrbanPop</th>\n",
       "      <th>Fraud</th>\n",
       "    </tr>\n",
       "  </thead>\n",
       "  <tbody>\n",
       "    <tr>\n",
       "      <th>0</th>\n",
       "      <td>Alabama</td>\n",
       "      <td>13.2</td>\n",
       "      <td>236</td>\n",
       "      <td>58</td>\n",
       "      <td>21.2</td>\n",
       "    </tr>\n",
       "    <tr>\n",
       "      <th>1</th>\n",
       "      <td>Alaska</td>\n",
       "      <td>10.0</td>\n",
       "      <td>263</td>\n",
       "      <td>48</td>\n",
       "      <td>44.5</td>\n",
       "    </tr>\n",
       "  </tbody>\n",
       "</table>\n",
       "</div>"
      ],
      "text/plain": [
       "  Unnamed: 0  Murder  Assault  UrbanPop  Fraud\n",
       "0    Alabama    13.2      236        58   21.2\n",
       "1     Alaska    10.0      263        48   44.5"
      ]
     },
     "execution_count": 3,
     "metadata": {},
     "output_type": "execute_result"
    }
   ],
   "source": [
    "dataset = pd.read_excel('data//USArrests.xlsx')\n",
    "dataset.head(2)"
   ]
  },
  {
   "cell_type": "code",
   "execution_count": 4,
   "metadata": {},
   "outputs": [
    {
     "data": {
      "text/plain": [
       "Index(['Unnamed: 0', 'Murder', 'Assault', 'UrbanPop', 'Fraud'], dtype='object')"
      ]
     },
     "execution_count": 4,
     "metadata": {},
     "output_type": "execute_result"
    }
   ],
   "source": [
    "dataset.columns"
   ]
  },
  {
   "cell_type": "code",
   "execution_count": 5,
   "metadata": {},
   "outputs": [
    {
     "data": {
      "text/html": [
       "<div>\n",
       "<style scoped>\n",
       "    .dataframe tbody tr th:only-of-type {\n",
       "        vertical-align: middle;\n",
       "    }\n",
       "\n",
       "    .dataframe tbody tr th {\n",
       "        vertical-align: top;\n",
       "    }\n",
       "\n",
       "    .dataframe thead th {\n",
       "        text-align: right;\n",
       "    }\n",
       "</style>\n",
       "<table border=\"1\" class=\"dataframe\">\n",
       "  <thead>\n",
       "    <tr style=\"text-align: right;\">\n",
       "      <th></th>\n",
       "      <th>Murder</th>\n",
       "      <th>Assault</th>\n",
       "      <th>UrbanPop</th>\n",
       "      <th>Fraud</th>\n",
       "    </tr>\n",
       "  </thead>\n",
       "  <tbody>\n",
       "    <tr>\n",
       "      <th>count</th>\n",
       "      <td>50.00000</td>\n",
       "      <td>50.000000</td>\n",
       "      <td>50.00000</td>\n",
       "      <td>50.000000</td>\n",
       "    </tr>\n",
       "    <tr>\n",
       "      <th>mean</th>\n",
       "      <td>7.78800</td>\n",
       "      <td>170.760000</td>\n",
       "      <td>663.84000</td>\n",
       "      <td>21.232000</td>\n",
       "    </tr>\n",
       "    <tr>\n",
       "      <th>std</th>\n",
       "      <td>4.35551</td>\n",
       "      <td>83.337661</td>\n",
       "      <td>4233.45191</td>\n",
       "      <td>9.366385</td>\n",
       "    </tr>\n",
       "    <tr>\n",
       "      <th>min</th>\n",
       "      <td>0.80000</td>\n",
       "      <td>45.000000</td>\n",
       "      <td>32.00000</td>\n",
       "      <td>7.300000</td>\n",
       "    </tr>\n",
       "    <tr>\n",
       "      <th>25%</th>\n",
       "      <td>4.07500</td>\n",
       "      <td>109.000000</td>\n",
       "      <td>54.50000</td>\n",
       "      <td>15.075000</td>\n",
       "    </tr>\n",
       "    <tr>\n",
       "      <th>50%</th>\n",
       "      <td>7.25000</td>\n",
       "      <td>159.000000</td>\n",
       "      <td>66.00000</td>\n",
       "      <td>20.100000</td>\n",
       "    </tr>\n",
       "    <tr>\n",
       "      <th>75%</th>\n",
       "      <td>11.25000</td>\n",
       "      <td>249.000000</td>\n",
       "      <td>77.75000</td>\n",
       "      <td>26.175000</td>\n",
       "    </tr>\n",
       "    <tr>\n",
       "      <th>max</th>\n",
       "      <td>17.40000</td>\n",
       "      <td>337.000000</td>\n",
       "      <td>30000.00000</td>\n",
       "      <td>46.000000</td>\n",
       "    </tr>\n",
       "  </tbody>\n",
       "</table>\n",
       "</div>"
      ],
      "text/plain": [
       "         Murder     Assault     UrbanPop      Fraud\n",
       "count  50.00000   50.000000     50.00000  50.000000\n",
       "mean    7.78800  170.760000    663.84000  21.232000\n",
       "std     4.35551   83.337661   4233.45191   9.366385\n",
       "min     0.80000   45.000000     32.00000   7.300000\n",
       "25%     4.07500  109.000000     54.50000  15.075000\n",
       "50%     7.25000  159.000000     66.00000  20.100000\n",
       "75%    11.25000  249.000000     77.75000  26.175000\n",
       "max    17.40000  337.000000  30000.00000  46.000000"
      ]
     },
     "execution_count": 5,
     "metadata": {},
     "output_type": "execute_result"
    }
   ],
   "source": [
    "dataset.describe()"
   ]
  },
  {
   "cell_type": "code",
   "execution_count": 6,
   "metadata": {},
   "outputs": [
    {
     "data": {
      "text/plain": [
       "Assault    159.0\n",
       "Fraud       20.1\n",
       "dtype: float64"
      ]
     },
     "execution_count": 6,
     "metadata": {},
     "output_type": "execute_result"
    }
   ],
   "source": [
    "dataset[['Assault','Fraud']].median()"
   ]
  },
  {
   "cell_type": "code",
   "execution_count": 7,
   "metadata": {},
   "outputs": [
    {
     "data": {
      "text/html": [
       "<div>\n",
       "<style scoped>\n",
       "    .dataframe tbody tr th:only-of-type {\n",
       "        vertical-align: middle;\n",
       "    }\n",
       "\n",
       "    .dataframe tbody tr th {\n",
       "        vertical-align: top;\n",
       "    }\n",
       "\n",
       "    .dataframe thead th {\n",
       "        text-align: right;\n",
       "    }\n",
       "</style>\n",
       "<table border=\"1\" class=\"dataframe\">\n",
       "  <thead>\n",
       "    <tr style=\"text-align: right;\">\n",
       "      <th></th>\n",
       "      <th>Assault</th>\n",
       "      <th>Fraud</th>\n",
       "    </tr>\n",
       "  </thead>\n",
       "  <tbody>\n",
       "    <tr>\n",
       "      <th>0</th>\n",
       "      <td>120.0</td>\n",
       "      <td>14.9</td>\n",
       "    </tr>\n",
       "    <tr>\n",
       "      <th>1</th>\n",
       "      <td>NaN</td>\n",
       "      <td>16.3</td>\n",
       "    </tr>\n",
       "  </tbody>\n",
       "</table>\n",
       "</div>"
      ],
      "text/plain": [
       "   Assault  Fraud\n",
       "0    120.0   14.9\n",
       "1      NaN   16.3"
      ]
     },
     "execution_count": 7,
     "metadata": {},
     "output_type": "execute_result"
    }
   ],
   "source": [
    "dataset[['Assault','Fraud']].mode()"
   ]
  },
  {
   "cell_type": "code",
   "execution_count": 11,
   "metadata": {},
   "outputs": [
    {
     "name": "stdout",
     "output_type": "stream",
     "text": [
      "[140.   11.1]\n"
     ]
    }
   ],
   "source": [
    "from scipy.stats import iqr, kurtosis, skew\n",
    "print(iqr(dataset[['Assault','Fraud']],axis=0))"
   ]
  },
  {
   "cell_type": "code",
   "execution_count": 10,
   "metadata": {},
   "outputs": [
    {
     "data": {
      "text/plain": [
       "array([-1.06902005,  0.20189779])"
      ]
     },
     "execution_count": 10,
     "metadata": {},
     "output_type": "execute_result"
    }
   ],
   "source": [
    "kurtosis(dataset[['Assault','Fraud']],fisher=True)"
   ]
  },
  {
   "cell_type": "code",
   "execution_count": 12,
   "metadata": {},
   "outputs": [
    {
     "data": {
      "text/plain": [
       "Assault    0.23441\n",
       "Fraud      0.80120\n",
       "dtype: float64"
      ]
     },
     "execution_count": 12,
     "metadata": {},
     "output_type": "execute_result"
    }
   ],
   "source": [
    "dataset[['Assault','Fraud']].skew()"
   ]
  },
  {
   "cell_type": "code",
   "execution_count": 14,
   "metadata": {},
   "outputs": [
    {
     "data": {
      "text/plain": [
       "array([0.22731787, 0.77696132])"
      ]
     },
     "execution_count": 14,
     "metadata": {},
     "output_type": "execute_result"
    }
   ],
   "source": [
    "skew(dataset[['Assault','Fraud']])"
   ]
  },
  {
   "cell_type": "code",
   "execution_count": 15,
   "metadata": {},
   "outputs": [],
   "source": [
    "from scipy.stats import zscore\n",
    "score = zscore(dataset[['Assault','Fraud']])"
   ]
  },
  {
   "cell_type": "code",
   "execution_count": 16,
   "metadata": {},
   "outputs": [
    {
     "data": {
      "text/html": [
       "<div>\n",
       "<style scoped>\n",
       "    .dataframe tbody tr th:only-of-type {\n",
       "        vertical-align: middle;\n",
       "    }\n",
       "\n",
       "    .dataframe tbody tr th {\n",
       "        vertical-align: top;\n",
       "    }\n",
       "\n",
       "    .dataframe thead th {\n",
       "        text-align: right;\n",
       "    }\n",
       "</style>\n",
       "<table border=\"1\" class=\"dataframe\">\n",
       "  <thead>\n",
       "    <tr style=\"text-align: right;\">\n",
       "      <th></th>\n",
       "      <th>Assault</th>\n",
       "      <th>Fraud</th>\n",
       "    </tr>\n",
       "  </thead>\n",
       "  <tbody>\n",
       "    <tr>\n",
       "      <th>0</th>\n",
       "      <td>0.790787</td>\n",
       "      <td>-0.003451</td>\n",
       "    </tr>\n",
       "    <tr>\n",
       "      <th>1</th>\n",
       "      <td>1.118060</td>\n",
       "      <td>2.509424</td>\n",
       "    </tr>\n",
       "    <tr>\n",
       "      <th>2</th>\n",
       "      <td>1.493817</td>\n",
       "      <td>1.053466</td>\n",
       "    </tr>\n",
       "    <tr>\n",
       "      <th>3</th>\n",
       "      <td>0.233212</td>\n",
       "      <td>-0.186794</td>\n",
       "    </tr>\n",
       "    <tr>\n",
       "      <th>4</th>\n",
       "      <td>1.275635</td>\n",
       "      <td>2.088814</td>\n",
       "    </tr>\n",
       "    <tr>\n",
       "      <th>5</th>\n",
       "      <td>0.402909</td>\n",
       "      <td>1.883901</td>\n",
       "    </tr>\n",
       "    <tr>\n",
       "      <th>6</th>\n",
       "      <td>-0.736484</td>\n",
       "      <td>-1.092723</td>\n",
       "    </tr>\n",
       "    <tr>\n",
       "      <th>7</th>\n",
       "      <td>0.815030</td>\n",
       "      <td>-0.585834</td>\n",
       "    </tr>\n",
       "    <tr>\n",
       "      <th>8</th>\n",
       "      <td>1.990786</td>\n",
       "      <td>1.150530</td>\n",
       "    </tr>\n",
       "    <tr>\n",
       "      <th>9</th>\n",
       "      <td>0.487757</td>\n",
       "      <td>0.492653</td>\n",
       "    </tr>\n",
       "    <tr>\n",
       "      <th>10</th>\n",
       "      <td>-1.512241</td>\n",
       "      <td>-0.111300</td>\n",
       "    </tr>\n",
       "    <tr>\n",
       "      <th>11</th>\n",
       "      <td>-0.615272</td>\n",
       "      <td>-0.758392</td>\n",
       "    </tr>\n",
       "    <tr>\n",
       "      <th>12</th>\n",
       "      <td>0.948363</td>\n",
       "      <td>0.298525</td>\n",
       "    </tr>\n",
       "    <tr>\n",
       "      <th>13</th>\n",
       "      <td>-0.700121</td>\n",
       "      <td>-0.025021</td>\n",
       "    </tr>\n",
       "    <tr>\n",
       "      <th>14</th>\n",
       "      <td>-1.391029</td>\n",
       "      <td>-1.071153</td>\n",
       "    </tr>\n",
       "    <tr>\n",
       "      <th>15</th>\n",
       "      <td>-0.675878</td>\n",
       "      <td>-0.348567</td>\n",
       "    </tr>\n",
       "    <tr>\n",
       "      <th>16</th>\n",
       "      <td>-0.748605</td>\n",
       "      <td>-0.531910</td>\n",
       "    </tr>\n",
       "    <tr>\n",
       "      <th>17</th>\n",
       "      <td>0.948363</td>\n",
       "      <td>0.104398</td>\n",
       "    </tr>\n",
       "    <tr>\n",
       "      <th>18</th>\n",
       "      <td>-1.063757</td>\n",
       "      <td>-1.448624</td>\n",
       "    </tr>\n",
       "    <tr>\n",
       "      <th>19</th>\n",
       "      <td>1.566544</td>\n",
       "      <td>0.708350</td>\n",
       "    </tr>\n",
       "    <tr>\n",
       "      <th>20</th>\n",
       "      <td>-0.263757</td>\n",
       "      <td>-0.531910</td>\n",
       "    </tr>\n",
       "    <tr>\n",
       "      <th>21</th>\n",
       "      <td>1.021090</td>\n",
       "      <td>1.495646</td>\n",
       "    </tr>\n",
       "    <tr>\n",
       "      <th>22</th>\n",
       "      <td>-1.197090</td>\n",
       "      <td>-0.682898</td>\n",
       "    </tr>\n",
       "    <tr>\n",
       "      <th>23</th>\n",
       "      <td>1.069575</td>\n",
       "      <td>-0.445631</td>\n",
       "    </tr>\n",
       "    <tr>\n",
       "      <th>24</th>\n",
       "      <td>0.087757</td>\n",
       "      <td>0.751490</td>\n",
       "    </tr>\n",
       "    <tr>\n",
       "      <th>25</th>\n",
       "      <td>-0.748605</td>\n",
       "      <td>-0.521125</td>\n",
       "    </tr>\n",
       "    <tr>\n",
       "      <th>26</th>\n",
       "      <td>-0.833454</td>\n",
       "      <td>-0.510340</td>\n",
       "    </tr>\n",
       "    <tr>\n",
       "      <th>27</th>\n",
       "      <td>0.984726</td>\n",
       "      <td>2.671197</td>\n",
       "    </tr>\n",
       "    <tr>\n",
       "      <th>28</th>\n",
       "      <td>-1.378908</td>\n",
       "      <td>-1.265281</td>\n",
       "    </tr>\n",
       "    <tr>\n",
       "      <th>29</th>\n",
       "      <td>-0.142545</td>\n",
       "      <td>-0.262288</td>\n",
       "    </tr>\n",
       "    <tr>\n",
       "      <th>30</th>\n",
       "      <td>1.384726</td>\n",
       "      <td>1.172100</td>\n",
       "    </tr>\n",
       "    <tr>\n",
       "      <th>31</th>\n",
       "      <td>1.008969</td>\n",
       "      <td>0.525008</td>\n",
       "    </tr>\n",
       "    <tr>\n",
       "      <th>32</th>\n",
       "      <td>2.015028</td>\n",
       "      <td>-0.553480</td>\n",
       "    </tr>\n",
       "    <tr>\n",
       "      <th>33</th>\n",
       "      <td>-1.524362</td>\n",
       "      <td>-1.502548</td>\n",
       "    </tr>\n",
       "    <tr>\n",
       "      <th>34</th>\n",
       "      <td>-0.615272</td>\n",
       "      <td>0.018119</td>\n",
       "    </tr>\n",
       "    <tr>\n",
       "      <th>35</th>\n",
       "      <td>-0.239515</td>\n",
       "      <td>-0.132870</td>\n",
       "    </tr>\n",
       "    <tr>\n",
       "      <th>36</th>\n",
       "      <td>-0.142545</td>\n",
       "      <td>0.870123</td>\n",
       "    </tr>\n",
       "    <tr>\n",
       "      <th>37</th>\n",
       "      <td>-0.784969</td>\n",
       "      <td>-0.682898</td>\n",
       "    </tr>\n",
       "    <tr>\n",
       "      <th>38</th>\n",
       "      <td>0.039273</td>\n",
       "      <td>-1.394700</td>\n",
       "    </tr>\n",
       "    <tr>\n",
       "      <th>39</th>\n",
       "      <td>1.311999</td>\n",
       "      <td>0.136752</td>\n",
       "    </tr>\n",
       "    <tr>\n",
       "      <th>40</th>\n",
       "      <td>-1.027393</td>\n",
       "      <td>-0.909380</td>\n",
       "    </tr>\n",
       "    <tr>\n",
       "      <th>41</th>\n",
       "      <td>0.208970</td>\n",
       "      <td>0.611287</td>\n",
       "    </tr>\n",
       "    <tr>\n",
       "      <th>42</th>\n",
       "      <td>0.366545</td>\n",
       "      <td>0.460298</td>\n",
       "    </tr>\n",
       "    <tr>\n",
       "      <th>43</th>\n",
       "      <td>-0.615272</td>\n",
       "      <td>0.179892</td>\n",
       "    </tr>\n",
       "    <tr>\n",
       "      <th>44</th>\n",
       "      <td>-1.487999</td>\n",
       "      <td>-1.081938</td>\n",
       "    </tr>\n",
       "    <tr>\n",
       "      <th>45</th>\n",
       "      <td>-0.178909</td>\n",
       "      <td>-0.057376</td>\n",
       "    </tr>\n",
       "    <tr>\n",
       "      <th>46</th>\n",
       "      <td>-0.312242</td>\n",
       "      <td>0.535792</td>\n",
       "    </tr>\n",
       "    <tr>\n",
       "      <th>47</th>\n",
       "      <td>-1.087999</td>\n",
       "      <td>-1.286851</td>\n",
       "    </tr>\n",
       "    <tr>\n",
       "      <th>48</th>\n",
       "      <td>-1.427393</td>\n",
       "      <td>-1.125078</td>\n",
       "    </tr>\n",
       "    <tr>\n",
       "      <th>49</th>\n",
       "      <td>-0.118303</td>\n",
       "      <td>-0.607404</td>\n",
       "    </tr>\n",
       "  </tbody>\n",
       "</table>\n",
       "</div>"
      ],
      "text/plain": [
       "     Assault     Fraud\n",
       "0   0.790787 -0.003451\n",
       "1   1.118060  2.509424\n",
       "2   1.493817  1.053466\n",
       "3   0.233212 -0.186794\n",
       "4   1.275635  2.088814\n",
       "5   0.402909  1.883901\n",
       "6  -0.736484 -1.092723\n",
       "7   0.815030 -0.585834\n",
       "8   1.990786  1.150530\n",
       "9   0.487757  0.492653\n",
       "10 -1.512241 -0.111300\n",
       "11 -0.615272 -0.758392\n",
       "12  0.948363  0.298525\n",
       "13 -0.700121 -0.025021\n",
       "14 -1.391029 -1.071153\n",
       "15 -0.675878 -0.348567\n",
       "16 -0.748605 -0.531910\n",
       "17  0.948363  0.104398\n",
       "18 -1.063757 -1.448624\n",
       "19  1.566544  0.708350\n",
       "20 -0.263757 -0.531910\n",
       "21  1.021090  1.495646\n",
       "22 -1.197090 -0.682898\n",
       "23  1.069575 -0.445631\n",
       "24  0.087757  0.751490\n",
       "25 -0.748605 -0.521125\n",
       "26 -0.833454 -0.510340\n",
       "27  0.984726  2.671197\n",
       "28 -1.378908 -1.265281\n",
       "29 -0.142545 -0.262288\n",
       "30  1.384726  1.172100\n",
       "31  1.008969  0.525008\n",
       "32  2.015028 -0.553480\n",
       "33 -1.524362 -1.502548\n",
       "34 -0.615272  0.018119\n",
       "35 -0.239515 -0.132870\n",
       "36 -0.142545  0.870123\n",
       "37 -0.784969 -0.682898\n",
       "38  0.039273 -1.394700\n",
       "39  1.311999  0.136752\n",
       "40 -1.027393 -0.909380\n",
       "41  0.208970  0.611287\n",
       "42  0.366545  0.460298\n",
       "43 -0.615272  0.179892\n",
       "44 -1.487999 -1.081938\n",
       "45 -0.178909 -0.057376\n",
       "46 -0.312242  0.535792\n",
       "47 -1.087999 -1.286851\n",
       "48 -1.427393 -1.125078\n",
       "49 -0.118303 -0.607404"
      ]
     },
     "execution_count": 16,
     "metadata": {},
     "output_type": "execute_result"
    }
   ],
   "source": [
    "score"
   ]
  },
  {
   "cell_type": "code",
   "execution_count": 19,
   "metadata": {},
   "outputs": [
    {
     "data": {
      "text/plain": [
       "<Axes: ylabel='UrbanPop'>"
      ]
     },
     "execution_count": 19,
     "metadata": {},
     "output_type": "execute_result"
    },
    {
     "data": {
      "image/png": "[encoded data removed]",
      "text/plain": [
       "<Figure size 640x480 with 1 Axes>"
      ]
     },
     "metadata": {},
     "output_type": "display_data"
    }
   ],
   "source": [
    "sns.boxplot(data=dataset,y='UrbanPop')"
   ]
  },
  {
   "cell_type": "code",
   "execution_count": 22,
   "metadata": {},
   "outputs": [],
   "source": [
    "#oulier treatmet\n",
    "def outlierTreatment(df,column):\n",
    "    q3 = np.quantile(df[column],0.75)\n",
    "    q1 = np.quantile(df[column],0.25)\n",
    "    i_qr = q3-q1\n",
    "    lowelimit = q1- 1.5*i_qr\n",
    "    upperlimt = q3+1.5*i_qr\n",
    "    return df[(df[column]<lowelimit) | (df[column]>upperlimt)]"
   ]
  },
  {
   "cell_type": "code",
   "execution_count": 23,
   "metadata": {},
   "outputs": [
    {
     "name": "stdout",
     "output_type": "stream",
     "text": [
      "       Unnamed: 0  Murder  Assault  UrbanPop  Fraud\n",
      "20  Massachusetts     4.4      149     30000   16.3\n"
     ]
    }
   ],
   "source": [
    "print(outlierTreatment(dataset,'UrbanPop'))"
   ]
  }
 ],
 "metadata": {
  "kernelspec": {
   "display_name": "Python 3",
   "language": "python",
   "name": "python3"
  },
  "language_info": {
   "codemirror_mode": {
    "name": "ipython",
    "version": 3
   },
   "file_extension": ".py",
   "mimetype": "text/x-python",
   "name": "python",
   "nbconvert_exporter": "python",
   "pygments_lexer": "ipython3",
   "version": "3.9.0"
  }
 },
 "nbformat": 4,
 "nbformat_minor": 2
}
